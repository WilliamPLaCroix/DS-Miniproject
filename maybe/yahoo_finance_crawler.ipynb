{
 "cells": [
  {
   "cell_type": "code",
   "execution_count": 20,
   "metadata": {},
   "outputs": [],
   "source": [
    "import pandas as pd\n",
    "import requests\n",
    "from datetime import datetime\n",
    "\n",
    "class crawler_yf():\n",
    "    def __init__(self, ticker, date, years):\n",
    "        self.ticker = ticker\n",
    "        self.date = date\n",
    "        self.years = years\n",
    "        self.period1, self.period2 = self.period(date, years)\n",
    "        self.get_data(ticker, self.period1, self.period2)\n",
    "    \n",
    "    def period(self, date, years):\n",
    "        from_date = datetime.strptime(\"2023-06-21\", \"%Y-%m-%d\")\n",
    "        date = datetime.strptime(date, '%Y-%m-%d')\n",
    "\n",
    "        d = date - from_date\n",
    "\n",
    "        num_days = d.days\n",
    "\n",
    "        period2 = 1687305600 + num_days * 86400\n",
    "        period1 = period2 - years * 31536000\n",
    "\n",
    "        return period1, period2\n",
    "    \n",
    "    def get_data(self, ticker, period1, period2):\n",
    "        url = \"https://query1.finance.yahoo.com/v7/finance/download/\" + ticker + \"?period1=\" + str(period1) + \"&period2=\" + str(period2) + \"&interval=1d&events=history&includeAdjustedClose=true\"\n",
    "        response = requests.get(url)\n",
    "        if response.status_code == 200:\n",
    "            with open(ticker + \".csv\", 'wb') as f:\n",
    "                f.write(response.content)\n",
    "            \n",
    "            df = pd.read_csv(ticker + \".csv\")\n",
    "            print(df)\n",
    "        else:\n",
    "            print(\"Error\")"
   ]
  },
  {
   "cell_type": "code",
   "execution_count": 21,
   "metadata": {},
   "outputs": [
    {
     "name": "stdout",
     "output_type": "stream",
     "text": [
      "Error\n"
     ]
    }
   ],
   "source": [
    "crawler = crawler_yf(\"AAPL\", \"2021-06-21\", 1)"
   ]
  }
 ],
 "metadata": {
  "kernelspec": {
   "display_name": "Python 3",
   "language": "python",
   "name": "python3"
  },
  "language_info": {
   "codemirror_mode": {
    "name": "ipython",
    "version": 3
   },
   "file_extension": ".py",
   "mimetype": "text/x-python",
   "name": "python",
   "nbconvert_exporter": "python",
   "pygments_lexer": "ipython3",
   "version": "3.10.6"
  },
  "orig_nbformat": 4
 },
 "nbformat": 4,
 "nbformat_minor": 2
}
