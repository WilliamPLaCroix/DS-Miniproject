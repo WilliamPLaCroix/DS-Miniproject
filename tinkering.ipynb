{
 "cells": [
  {
   "cell_type": "code",
   "execution_count": 81,
   "metadata": {},
   "outputs": [],
   "source": [
    "import json\n",
    "import pandas as pd\n",
    "\n",
    "# Opening JSON file\n",
    "f = open('./toy_data/CIK0001852244.json')\n",
    "\n",
    "# returns JSON object as \n",
    "# a dictionary\n",
    "data = json.load(f)\n",
    "  \n",
    "# Iterating through the json\n",
    "# list\n",
    "temp_frame: list = []\n",
    "full_frame = pd.DataFrame()\n",
    "for key1 in data['facts']['us-gaap'].keys():\n",
    "    for key2 in data['facts']['us-gaap'][key1]['units'].keys():\n",
    "        val_frame = pd.DataFrame([[f\"{entry['end'][:4]}{entry['fp']}\", entry['val']] for entry in data['facts']['us-gaap'][key1]['units'][key2]], columns=['end', key1])\n",
    "        val_frame = val_frame.drop_duplicates()\n",
    "        if len(val_frame) >= 20:\n",
    "            temp_frame.append(val_frame)\n",
    "#         if full_frame.empty:\n",
    "#             full_frame = val_frame\n",
    "#         else:\n",
    "#             full_frame = full_frame.join(val_frame)\n",
    "# print(full_frame)\n",
    "\n",
    "  \n",
    "# Closing file\n",
    "f.close()"
   ]
  },
  {
   "cell_type": "code",
   "execution_count": 82,
   "metadata": {},
   "outputs": [
    {
     "name": "stdout",
     "output_type": "stream",
     "text": [
      "Index(['AccountsPayableCurrent', 'end1', 'AccountsReceivableNetCurrent',\n",
      "       'end2', 'AccruedLiabilitiesCurrent', 'end3',\n",
      "       'AccumulatedOtherComprehensiveIncomeLossNetOfTax', 'end4',\n",
      "       'AdditionalPaidInCapital', 'end5',\n",
      "       ...\n",
      "       'end104', 'WeightedAverageNumberDilutedSharesOutstandingAdjustment',\n",
      "       'end105', 'WeightedAverageNumberOfDilutedSharesOutstanding', 'end106',\n",
      "       'WeightedAverageNumberOfSharesOutstandingBasic', 'end107',\n",
      "       'DefinedContributionPlanCostRecognized', 'end',\n",
      "       'PaymentsToAcquireBusinessesNetOfCashAcquired'],\n",
      "      dtype='object', length=217)\n"
     ]
    }
   ],
   "source": [
    "first_frame = temp_frame[0]\n",
    "\n",
    "for i, frame in enumerate(temp_frame[1:]):\n",
    "    first_frame = first_frame.join(frame, rsuffix=i+1, lsuffix=i)\n",
    "new_index = first_frame['end0']\n",
    "first_frame = first_frame.drop(['end0'], axis=1)\n",
    "first_frame.set_index(new_index, inplace=True)\n",
    "print(first_frame.columns)"
   ]
  },
  {
   "cell_type": "code",
   "execution_count": 85,
   "metadata": {},
   "outputs": [],
   "source": [
    "\n",
    "for column_name in first_frame.columns:\n",
    "    if column_name[:3] == 'end' and column_name != 'end0':\n",
    "        first_frame = first_frame.drop([column_name], axis=1)\n",
    "\n",
    "with open(\"./CIK1852244.txt\", 'w', encoding='utf-8') as fout:\n",
    "    for feature in first_frame.columns:\n",
    "        fout.write(f\"{feature}\\n\")\n",
    "\n"
   ]
  }
 ],
 "metadata": {
  "kernelspec": {
   "display_name": "Python 3",
   "language": "python",
   "name": "python3"
  },
  "language_info": {
   "codemirror_mode": {
    "name": "ipython",
    "version": 3
   },
   "file_extension": ".py",
   "mimetype": "text/x-python",
   "name": "python",
   "nbconvert_exporter": "python",
   "pygments_lexer": "ipython3",
   "version": "3.8.10"
  },
  "orig_nbformat": 4
 },
 "nbformat": 4,
 "nbformat_minor": 2
}
