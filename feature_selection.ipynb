{
 "cells": [
  {
   "cell_type": "code",
   "execution_count": 109,
   "metadata": {},
   "outputs": [],
   "source": [
    "import numpy as np\n",
    "import pandas as pd\n",
    "import matplotlib.pyplot as plt"
   ]
  },
  {
   "cell_type": "code",
   "execution_count": 110,
   "metadata": {},
   "outputs": [
    {
     "name": "stdout",
     "output_type": "stream",
     "text": [
      "     cylinders  displacement  horsepower     weight  acceleration  year  \\\n",
      "0            8      2.250733   11.401754  15.188727          12.0    70   \n",
      "1            8      2.341966   12.845233  15.457044          11.5    70   \n",
      "2            8      2.305058   12.247449  15.089831          11.0    70   \n",
      "3            8      2.305058   12.247449  15.085438          12.0    70   \n",
      "4            8      2.278704   11.832160  15.108838          10.5    70   \n",
      "..         ...           ...         ...        ...           ...   ...   \n",
      "387          4      2.100953    9.273618  14.077798          15.6    82   \n",
      "388          4      1.931971    7.211103  12.866484          24.6    82   \n",
      "389          4      2.092730    9.165151  13.190489          11.6    82   \n",
      "390          4      2.071434    8.888194  13.794621          18.6    82   \n",
      "391          4      2.084342    9.055385  13.959064          19.4    82   \n",
      "\n",
      "     origin  \n",
      "0         1  \n",
      "1         1  \n",
      "2         1  \n",
      "3         1  \n",
      "4         1  \n",
      "..      ...  \n",
      "387       1  \n",
      "388       2  \n",
      "389       1  \n",
      "390       1  \n",
      "391       1  \n",
      "\n",
      "[392 rows x 7 columns]\n",
      "     cylinders  displacement  horsepower     weight  acceleration  year  \\\n",
      "0            8      2.250733   11.401754  15.188727          12.0    70   \n",
      "1            8      2.341966   12.845233  15.457044          11.5    70   \n",
      "2            8      2.305058   12.247449  15.089831          11.0    70   \n",
      "3            8      2.305058   12.247449  15.085438          12.0    70   \n",
      "4            8      2.278704   11.832160  15.108838          10.5    70   \n",
      "..         ...           ...         ...        ...           ...   ...   \n",
      "387          4      2.100953    9.273618  14.077798          15.6    82   \n",
      "388          4      1.931971    7.211103  12.866484          24.6    82   \n",
      "389          4      2.092730    9.165151  13.190489          11.6    82   \n",
      "390          4      2.071434    8.888194  13.794621          18.6    82   \n",
      "391          4      2.084342    9.055385  13.959064          19.4    82   \n",
      "\n",
      "     origin  \n",
      "0         1  \n",
      "1         1  \n",
      "2         1  \n",
      "3         1  \n",
      "4         1  \n",
      "..      ...  \n",
      "387       1  \n",
      "388       2  \n",
      "389       1  \n",
      "390       1  \n",
      "391       1  \n",
      "\n",
      "[392 rows x 7 columns]\n"
     ]
    }
   ],
   "source": [
    "data = pd.read_csv('data/auto-dataset.csv')\n",
    "data = data.drop(['name'], axis=1)\n",
    "#data = data.drop(['displacement'], axis=1)\n",
    "labels = data.columns.values\n",
    "feats = data.columns[1:]\n",
    "\n",
    "data['horsepower'] = data['horsepower'].map(lambda a: np.sqrt(a))\n",
    "data['weight'] = data['weight'].map(lambda a: np.cbrt(a))\n",
    "data['displacement'] = data['horsepower'].map(lambda a: np.cbrt(a))\n",
    "\n",
    "\n",
    "X = data[feats]\n",
    "y = data[data.columns[0]]\n",
    "#print(data)\n",
    "#print(feats.values)\n",
    "print(X)\n",
    "#print(y)\n",
    "\n",
    "print(X)"
   ]
  },
  {
   "cell_type": "code",
   "execution_count": 111,
   "metadata": {},
   "outputs": [],
   "source": [
    "# Plot the feature plots to observe the relationships between all the predictors\n",
    "\n",
    "size = len(labels)\n",
    "figure, axis = plt.subplots(size, size, figsize=(100, 100), dpi=80)\n",
    "for i, featx in enumerate(labels):\n",
    "    for j, featy in enumerate(labels):\n",
    "        index = (i, j)\n",
    "        plt.subplot2grid((size, size), index, rowspan = 1, colspan = 1)\n",
    "        if i >= j:\n",
    "            continue\n",
    "        plt.scatter(data[featx], data[featy], label = 'data')\n",
    "        plt.title(featx + ' vs ' + featy)\n",
    "plt.show()"
   ]
  },
  {
   "cell_type": "code",
   "execution_count": 112,
   "metadata": {},
   "outputs": [
    {
     "name": "stdout",
     "output_type": "stream",
     "text": [
      "                   mpg  cylinders  displacement  horsepower    weight  \\\n",
      "mpg           1.000000   0.777618      0.813515    0.802311  0.841889   \n",
      "cylinders     0.777618   1.000000      0.846638    0.849266  0.890974   \n",
      "displacement  0.813515   0.846638      1.000000    0.997733  0.875424   \n",
      "horsepower    0.802311   0.849266      0.997733    1.000000  0.870009   \n",
      "weight        0.841889   0.890974      0.875424    0.870009  1.000000   \n",
      "acceleration  0.423329   0.504683      0.698462    0.696702  0.407204   \n",
      "year          0.580541   0.345647      0.401611    0.409083  0.295015   \n",
      "origin        0.565209   0.568932      0.479729    0.471495  0.602124   \n",
      "\n",
      "              acceleration      year    origin  \n",
      "mpg               0.423329  0.580541  0.565209  \n",
      "cylinders         0.504683  0.345647  0.568932  \n",
      "displacement      0.698462  0.401611  0.479729  \n",
      "horsepower        0.696702  0.409083  0.471495  \n",
      "weight            0.407204  0.295015  0.602124  \n",
      "acceleration      1.000000  0.290316  0.212746  \n",
      "year              0.290316  1.000000  0.181528  \n",
      "origin            0.212746  0.181528  1.000000  \n"
     ]
    }
   ],
   "source": [
    "corr_matrix = data.corr().abs()\n",
    "print(corr_matrix)\n"
   ]
  },
  {
   "cell_type": "code",
   "execution_count": 113,
   "metadata": {},
   "outputs": [
    {
     "name": "stdout",
     "output_type": "stream",
     "text": [
      "Score for mpg as a function of cylinders: 0.6046889889441246\n",
      "Score for mpg as a function of displacement: 0.6618071525601101\n",
      "Score for mpg as a function of horsepower: 0.6437035832706476\n",
      "Score for mpg as a function of weight: 0.7087778772249608\n",
      "Score for mpg as a function of acceleration: 0.1792070501562546\n",
      "Score for mpg as a function of year: 0.3370278133096227\n",
      "Score for mpg as a function of origin: 0.3194609386689675\n"
     ]
    }
   ],
   "source": [
    "from sklearn.linear_model import LinearRegression\n",
    "\n",
    "y = np.array(y)\n",
    "for feat in feats: # skip the first feature, which is our y value\n",
    "    linear_model = LinearRegression()\n",
    "    x = np.array(X[feat])\n",
    "    linear_model.fit(x.reshape(-1, 1), y)\n",
    "    print(f\"Score for mpg as a function of {feat}:\", linear_model.score(x.reshape(-1, 1), y))"
   ]
  },
  {
   "cell_type": "code",
   "execution_count": 120,
   "metadata": {},
   "outputs": [
    {
     "name": "stdout",
     "output_type": "stream",
     "text": [
      "score using feats:\n",
      "['cylinders' 'displacement' 'horsepower' 'weight' 'acceleration' 'year'\n",
      " 'origin']\n",
      "0.8621171257223471\n"
     ]
    }
   ],
   "source": [
    "combined_arrays = np.stack([np.array(X[feat]) for feat in feats], axis = 1)\n",
    "y = np.array(y)\n",
    "multiple_linear_model = LinearRegression()\n",
    "multiple_linear_model.fit(combined_arrays, y)\n",
    "mlm_score = multiple_linear_model.score(combined_arrays, y)\n",
    "print(\"score using feats:\")\n",
    "print(feats.values)\n",
    "print(mlm_score)\n",
    "#params = multiple_linear_model.get_params()\n",
    "#print(params)\n",
    "coefs = multiple_linear_model.coef_\n",
    "predictions = multiple_linear_model.predict(combined_arrays)\n",
    "# print(predictions)"
   ]
  },
  {
   "attachments": {},
   "cell_type": "markdown",
   "metadata": {},
   "source": [
    "1. score using all feats:\n",
    "* ['cylinders' 'displacement' 'horsepower' 'weight' 'acceleration' 'year'\n",
    " 'origin']\n",
    "* 0.8214780764810599\n",
    "\n",
    "2. score using some feats:\n",
    "* ['cylinders' 'horsepower' 'weight' 'acceleration' 'year' 'origin']\n",
    "* 0.81821964040881\n",
    "\n",
    "3. score using transformed feats:\n",
    "* ['cylinders' sqrt('displacement') sqrt('horsepower') sqrt('weight') 'acceleration' 'year'\n",
    " 'origin']\n",
    "* 0.8621171257223471"
   ]
  },
  {
   "cell_type": "code",
   "execution_count": 133,
   "metadata": {},
   "outputs": [
    {
     "data": {
      "text/plain": [
       "<matplotlib.lines.Line2D at 0x15287d66310>"
      ]
     },
     "execution_count": 133,
     "metadata": {},
     "output_type": "execute_result"
    },
    {
     "data": {
      "image/png": "[encoded data removed]",
      "text/plain": [
       "<Figure size 640x480 with 1 Axes>"
      ]
     },
     "metadata": {},
     "output_type": "display_data"
    }
   ],
   "source": [
    "#Make a scatter plot of the residual vs the predictions of your linear regression model\n",
    "#predictions = multiple_linear_model.predict(combined_arrays)\n",
    "residuals = (y - predictions)\n",
    "plt.figure()\n",
    "plt.scatter(predictions, residuals, marker='.')\n",
    "plt.xlabel('Fitted values')\n",
    "plt.ylabel('Residuals')\n",
    "plt.title(\"Scatter plot of residuals vs fitted values\")\n",
    "plt.axhline(y = np.nanmean(residuals), color = \"red\")"
   ]
  }
 ],
 "metadata": {
  "kernelspec": {
   "display_name": "Python 3",
   "language": "python",
   "name": "python3"
  },
  "language_info": {
   "codemirror_mode": {
    "name": "ipython",
    "version": 3
   },
   "file_extension": ".py",
   "mimetype": "text/x-python",
   "name": "python",
   "nbconvert_exporter": "python",
   "pygments_lexer": "ipython3",
   "version": "3.8.10"
  },
  "orig_nbformat": 4
 },
 "nbformat": 4,
 "nbformat_minor": 2
}
